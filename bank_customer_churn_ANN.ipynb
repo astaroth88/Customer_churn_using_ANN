{
 "cells": [
  {
   "cell_type": "code",
   "execution_count": 1,
   "metadata": {},
   "outputs": [],
   "source": [
    "import pandas as pd\n",
    "import matplotlib.pyplot as plt"
   ]
  },
  {
   "cell_type": "code",
   "execution_count": 2,
   "metadata": {},
   "outputs": [],
   "source": [
    "df = pd.read_csv('Churn_Modelling.csv')"
   ]
  },
  {
   "cell_type": "code",
   "execution_count": 3,
   "metadata": {},
   "outputs": [
    {
     "data": {
      "text/html": [
       "<div>\n",
       "<style>\n",
       "    .dataframe thead tr:only-child th {\n",
       "        text-align: right;\n",
       "    }\n",
       "\n",
       "    .dataframe thead th {\n",
       "        text-align: left;\n",
       "    }\n",
       "\n",
       "    .dataframe tbody tr th {\n",
       "        vertical-align: top;\n",
       "    }\n",
       "</style>\n",
       "<table border=\"1\" class=\"dataframe\">\n",
       "  <thead>\n",
       "    <tr style=\"text-align: right;\">\n",
       "      <th></th>\n",
       "      <th>RowNumber</th>\n",
       "      <th>CustomerId</th>\n",
       "      <th>Surname</th>\n",
       "      <th>CreditScore</th>\n",
       "      <th>Geography</th>\n",
       "      <th>Gender</th>\n",
       "      <th>Age</th>\n",
       "      <th>Tenure</th>\n",
       "      <th>Balance</th>\n",
       "      <th>NumOfProducts</th>\n",
       "      <th>HasCrCard</th>\n",
       "      <th>IsActiveMember</th>\n",
       "      <th>EstimatedSalary</th>\n",
       "      <th>Exited</th>\n",
       "    </tr>\n",
       "  </thead>\n",
       "  <tbody>\n",
       "    <tr>\n",
       "      <th>0</th>\n",
       "      <td>1</td>\n",
       "      <td>15634602</td>\n",
       "      <td>Hargrave</td>\n",
       "      <td>619</td>\n",
       "      <td>France</td>\n",
       "      <td>Female</td>\n",
       "      <td>42</td>\n",
       "      <td>2</td>\n",
       "      <td>0.00</td>\n",
       "      <td>1</td>\n",
       "      <td>1</td>\n",
       "      <td>1</td>\n",
       "      <td>101348.88</td>\n",
       "      <td>1</td>\n",
       "    </tr>\n",
       "    <tr>\n",
       "      <th>1</th>\n",
       "      <td>2</td>\n",
       "      <td>15647311</td>\n",
       "      <td>Hill</td>\n",
       "      <td>608</td>\n",
       "      <td>Spain</td>\n",
       "      <td>Female</td>\n",
       "      <td>41</td>\n",
       "      <td>1</td>\n",
       "      <td>83807.86</td>\n",
       "      <td>1</td>\n",
       "      <td>0</td>\n",
       "      <td>1</td>\n",
       "      <td>112542.58</td>\n",
       "      <td>0</td>\n",
       "    </tr>\n",
       "    <tr>\n",
       "      <th>2</th>\n",
       "      <td>3</td>\n",
       "      <td>15619304</td>\n",
       "      <td>Onio</td>\n",
       "      <td>502</td>\n",
       "      <td>France</td>\n",
       "      <td>Female</td>\n",
       "      <td>42</td>\n",
       "      <td>8</td>\n",
       "      <td>159660.80</td>\n",
       "      <td>3</td>\n",
       "      <td>1</td>\n",
       "      <td>0</td>\n",
       "      <td>113931.57</td>\n",
       "      <td>1</td>\n",
       "    </tr>\n",
       "    <tr>\n",
       "      <th>3</th>\n",
       "      <td>4</td>\n",
       "      <td>15701354</td>\n",
       "      <td>Boni</td>\n",
       "      <td>699</td>\n",
       "      <td>France</td>\n",
       "      <td>Female</td>\n",
       "      <td>39</td>\n",
       "      <td>1</td>\n",
       "      <td>0.00</td>\n",
       "      <td>2</td>\n",
       "      <td>0</td>\n",
       "      <td>0</td>\n",
       "      <td>93826.63</td>\n",
       "      <td>0</td>\n",
       "    </tr>\n",
       "    <tr>\n",
       "      <th>4</th>\n",
       "      <td>5</td>\n",
       "      <td>15737888</td>\n",
       "      <td>Mitchell</td>\n",
       "      <td>850</td>\n",
       "      <td>Spain</td>\n",
       "      <td>Female</td>\n",
       "      <td>43</td>\n",
       "      <td>2</td>\n",
       "      <td>125510.82</td>\n",
       "      <td>1</td>\n",
       "      <td>1</td>\n",
       "      <td>1</td>\n",
       "      <td>79084.10</td>\n",
       "      <td>0</td>\n",
       "    </tr>\n",
       "  </tbody>\n",
       "</table>\n",
       "</div>"
      ],
      "text/plain": [
       "   RowNumber  CustomerId   Surname  CreditScore Geography  Gender  Age  \\\n",
       "0          1    15634602  Hargrave          619    France  Female   42   \n",
       "1          2    15647311      Hill          608     Spain  Female   41   \n",
       "2          3    15619304      Onio          502    France  Female   42   \n",
       "3          4    15701354      Boni          699    France  Female   39   \n",
       "4          5    15737888  Mitchell          850     Spain  Female   43   \n",
       "\n",
       "   Tenure    Balance  NumOfProducts  HasCrCard  IsActiveMember  \\\n",
       "0       2       0.00              1          1               1   \n",
       "1       1   83807.86              1          0               1   \n",
       "2       8  159660.80              3          1               0   \n",
       "3       1       0.00              2          0               0   \n",
       "4       2  125510.82              1          1               1   \n",
       "\n",
       "   EstimatedSalary  Exited  \n",
       "0        101348.88       1  \n",
       "1        112542.58       0  \n",
       "2        113931.57       1  \n",
       "3         93826.63       0  \n",
       "4         79084.10       0  "
      ]
     },
     "execution_count": 3,
     "metadata": {},
     "output_type": "execute_result"
    }
   ],
   "source": [
    "df.head()"
   ]
  },
  {
   "cell_type": "code",
   "execution_count": 4,
   "metadata": {},
   "outputs": [],
   "source": [
    "X = df.iloc[:,3:13].values\n",
    "y = df.iloc[:,13].values"
   ]
  },
  {
   "cell_type": "code",
   "execution_count": 5,
   "metadata": {},
   "outputs": [
    {
     "data": {
      "text/plain": [
       "array(['France', 'Spain', 'Germany'], dtype=object)"
      ]
     },
     "execution_count": 5,
     "metadata": {},
     "output_type": "execute_result"
    }
   ],
   "source": [
    "df['Geography'].unique()"
   ]
  },
  {
   "cell_type": "code",
   "execution_count": 6,
   "metadata": {},
   "outputs": [],
   "source": [
    "from sklearn.preprocessing import LabelEncoder, OneHotEncoder\n",
    "\n",
    "labelencoder_X_1 = LabelEncoder()\n",
    "labelencoder_X_2 = LabelEncoder()\n",
    "\n",
    "X[:,1] = labelencoder_X_1.fit_transform(X[:,1])\n",
    "\n",
    "X[:,2] = labelencoder_X_2.fit_transform(X[:,2])"
   ]
  },
  {
   "cell_type": "code",
   "execution_count": 7,
   "metadata": {},
   "outputs": [
    {
     "name": "stdout",
     "output_type": "stream",
     "text": [
      "[0 2 0 ..., 0 1 0]\n"
     ]
    }
   ],
   "source": [
    "print(X[:,1])"
   ]
  },
  {
   "cell_type": "code",
   "execution_count": 8,
   "metadata": {},
   "outputs": [],
   "source": [
    "one_hot_encoder = OneHotEncoder(categorical_features= [1])\n",
    "X = one_hot_encoder.fit_transform(X).toarray()\n",
    "X = X[:, 1:]"
   ]
  },
  {
   "cell_type": "code",
   "execution_count": 9,
   "metadata": {},
   "outputs": [],
   "source": [
    "#print(X)"
   ]
  },
  {
   "cell_type": "code",
   "execution_count": 10,
   "metadata": {},
   "outputs": [],
   "source": [
    "from sklearn.model_selection import train_test_split"
   ]
  },
  {
   "cell_type": "code",
   "execution_count": 11,
   "metadata": {},
   "outputs": [],
   "source": [
    "X_train, X_test, y_train, y_test = train_test_split(X, y, test_size=0.2, random_state=0)"
   ]
  },
  {
   "cell_type": "code",
   "execution_count": 12,
   "metadata": {},
   "outputs": [],
   "source": [
    "from sklearn.preprocessing import StandardScaler\n",
    "sc = StandardScaler()\n",
    "X_train = sc.fit_transform(X_train)\n",
    "X_test = sc.transform(X_test)"
   ]
  },
  {
   "cell_type": "code",
   "execution_count": 13,
   "metadata": {},
   "outputs": [
    {
     "name": "stderr",
     "output_type": "stream",
     "text": [
      "Using TensorFlow backend.\n"
     ]
    }
   ],
   "source": [
    "import keras\n",
    "from keras.models import Sequential\n",
    "from keras.layers import Dense"
   ]
  },
  {
   "cell_type": "code",
   "execution_count": 14,
   "metadata": {},
   "outputs": [
    {
     "name": "stderr",
     "output_type": "stream",
     "text": [
      "C:\\Users\\swainba\\AppData\\Local\\Continuum\\anaconda3\\lib\\site-packages\\ipykernel_launcher.py:3: UserWarning: Update your `Dense` call to the Keras 2 API: `Dense(kernel_initializer=\"uniform\", activation=\"relu\", units=6)`\n",
      "  This is separate from the ipykernel package so we can avoid doing imports until\n",
      "C:\\Users\\swainba\\AppData\\Local\\Continuum\\anaconda3\\lib\\site-packages\\ipykernel_launcher.py:4: UserWarning: Update your `Dense` call to the Keras 2 API: `Dense(kernel_initializer=\"uniform\", activation=\"sigmoid\", units=1)`\n",
      "  after removing the cwd from sys.path.\n"
     ]
    }
   ],
   "source": [
    "classifier = Sequential()\n",
    "classifier.add(Dense(units=6, input_dim=11, kernel_initializer='uniform', activation='relu'))\n",
    "classifier.add(Dense(kernel_initializer='uniform', activation='relu', output_dim=6))\n",
    "classifier.add(Dense(kernel_initializer='uniform', activation='sigmoid', output_dim=1))\n",
    "classifier.compile(optimizer='adam', loss='binary_crossentropy', metrics=['accuracy'])"
   ]
  },
  {
   "cell_type": "code",
   "execution_count": 15,
   "metadata": {},
   "outputs": [
    {
     "name": "stdout",
     "output_type": "stream",
     "text": [
      "Epoch 1/100\n",
      "8000/8000 [==============================] - 4s 500us/step - loss: 0.4928 - acc: 0.7965\n",
      "Epoch 2/100\n",
      "8000/8000 [==============================] - 3s 321us/step - loss: 0.4134 - acc: 0.8207\n",
      "Epoch 3/100\n",
      "8000/8000 [==============================] - 3s 341us/step - loss: 0.4000 - acc: 0.8260 0s - loss: 0.3980 - acc: 0\n",
      "Epoch 4/100\n",
      "8000/8000 [==============================] - 4s 458us/step - loss: 0.3910 - acc: 0.8282\n",
      "Epoch 5/100\n",
      "8000/8000 [==============================] - 5s 571us/step - loss: 0.3841 - acc: 0.8297\n",
      "Epoch 6/100\n",
      "8000/8000 [==============================] - 5s 564us/step - loss: 0.3785 - acc: 0.8319\n",
      "Epoch 7/100\n",
      "8000/8000 [==============================] - 5s 663us/step - loss: 0.3735 - acc: 0.8417 1\n",
      "Epoch 8/100\n",
      "8000/8000 [==============================] - 6s 803us/step - loss: 0.3705 - acc: 0.8436 1s - loss: 0.3732 - a - ETA: 0s - loss: 0.3\n",
      "Epoch 9/100\n",
      "8000/8000 [==============================] - ETA: 0s - loss: 0.3656 - acc: 0.849 - 6s 699us/step - loss: 0.3667 - acc: 0.8485\n",
      "Epoch 10/100\n",
      "8000/8000 [==============================] - 4s 470us/step - loss: 0.3641 - acc: 0.8510\n",
      "Epoch 11/100\n",
      "8000/8000 [==============================] - 3s 394us/step - loss: 0.3625 - acc: 0.8530\n",
      "Epoch 12/100\n",
      "8000/8000 [==============================] - 3s 352us/step - loss: 0.3601 - acc: 0.8517\n",
      "Epoch 13/100\n",
      "8000/8000 [==============================] - 3s 354us/step - loss: 0.3585 - acc: 0.8539\n",
      "Epoch 14/100\n",
      "8000/8000 [==============================] - 3s 370us/step - loss: 0.3571 - acc: 0.8547\n",
      "Epoch 15/100\n",
      "8000/8000 [==============================] - 3s 328us/step - loss: 0.3560 - acc: 0.8535\n",
      "Epoch 16/100\n",
      "8000/8000 [==============================] - 3s 324us/step - loss: 0.3551 - acc: 0.8567\n",
      "Epoch 17/100\n",
      "8000/8000 [==============================] - 3s 326us/step - loss: 0.3536 - acc: 0.8565\n",
      "Epoch 18/100\n",
      "8000/8000 [==============================] - 3s 354us/step - loss: 0.3526 - acc: 0.8560\n",
      "Epoch 19/100\n",
      "8000/8000 [==============================] - 3s 351us/step - loss: 0.3520 - acc: 0.8576\n",
      "Epoch 20/100\n",
      "8000/8000 [==============================] - 3s 349us/step - loss: 0.3510 - acc: 0.8589\n",
      "Epoch 21/100\n",
      "8000/8000 [==============================] - 3s 347us/step - loss: 0.3506 - acc: 0.8552\n",
      "Epoch 22/100\n",
      "8000/8000 [==============================] - 3s 411us/step - loss: 0.3500 - acc: 0.8564\n",
      "Epoch 23/100\n",
      "8000/8000 [==============================] - 4s 444us/step - loss: 0.3494 - acc: 0.8577\n",
      "Epoch 24/100\n",
      "8000/8000 [==============================] - 4s 460us/step - loss: 0.3488 - acc: 0.8587\n",
      "Epoch 25/100\n",
      "8000/8000 [==============================] - 5s 570us/step - loss: 0.3485 - acc: 0.8586\n",
      "Epoch 26/100\n",
      "8000/8000 [==============================] - 4s 440us/step - loss: 0.3477 - acc: 0.8570 - ETA: 0s - loss: 0.3474 - acc: 0.8\n",
      "Epoch 27/100\n",
      "8000/8000 [==============================] - 3s 422us/step - loss: 0.3473 - acc: 0.8596\n",
      "Epoch 28/100\n",
      "8000/8000 [==============================] - 3s 408us/step - loss: 0.3470 - acc: 0.8577\n",
      "Epoch 29/100\n",
      "8000/8000 [==============================] - 4s 452us/step - loss: 0.3466 - acc: 0.8572\n",
      "Epoch 30/100\n",
      "8000/8000 [==============================] - 3s 362us/step - loss: 0.3465 - acc: 0.8585\n",
      "Epoch 31/100\n",
      "8000/8000 [==============================] - 3s 331us/step - loss: 0.3463 - acc: 0.8562\n",
      "Epoch 32/100\n",
      "8000/8000 [==============================] - 3s 326us/step - loss: 0.3460 - acc: 0.8581\n",
      "Epoch 33/100\n",
      "8000/8000 [==============================] - 2s 300us/step - loss: 0.3451 - acc: 0.8602\n",
      "Epoch 34/100\n",
      "8000/8000 [==============================] - 2s 299us/step - loss: 0.3447 - acc: 0.8596\n",
      "Epoch 35/100\n",
      "8000/8000 [==============================] - 2s 292us/step - loss: 0.3445 - acc: 0.8596\n",
      "Epoch 36/100\n",
      "8000/8000 [==============================] - 2s 277us/step - loss: 0.3443 - acc: 0.8589\n",
      "Epoch 37/100\n",
      "8000/8000 [==============================] - 2s 276us/step - loss: 0.3434 - acc: 0.8574\n",
      "Epoch 38/100\n",
      "8000/8000 [==============================] - 2s 273us/step - loss: 0.3426 - acc: 0.8607\n",
      "Epoch 39/100\n",
      "8000/8000 [==============================] - 2s 283us/step - loss: 0.3425 - acc: 0.8577 0s - loss: 0\n",
      "Epoch 40/100\n",
      "8000/8000 [==============================] - 2s 303us/step - loss: 0.3423 - acc: 0.8587\n",
      "Epoch 41/100\n",
      "8000/8000 [==============================] - 2s 306us/step - loss: 0.3415 - acc: 0.8609\n",
      "Epoch 42/100\n",
      "8000/8000 [==============================] - 3s 411us/step - loss: 0.3418 - acc: 0.8587\n",
      "Epoch 43/100\n",
      "8000/8000 [==============================] - 4s 456us/step - loss: 0.3411 - acc: 0.8577\n",
      "Epoch 44/100\n",
      "8000/8000 [==============================] - 3s 413us/step - loss: 0.3412 - acc: 0.8615\n",
      "Epoch 45/100\n",
      "8000/8000 [==============================] - 4s 554us/step - loss: 0.3409 - acc: 0.8595\n",
      "Epoch 46/100\n",
      "8000/8000 [==============================] - 3s 407us/step - loss: 0.3401 - acc: 0.8590\n",
      "Epoch 47/100\n",
      "8000/8000 [==============================] - 3s 392us/step - loss: 0.3416 - acc: 0.8571\n",
      "Epoch 48/100\n",
      "8000/8000 [==============================] - 3s 321us/step - loss: 0.3407 - acc: 0.8587\n",
      "Epoch 49/100\n",
      "8000/8000 [==============================] - 2s 269us/step - loss: 0.3406 - acc: 0.8580\n",
      "Epoch 50/100\n",
      "8000/8000 [==============================] - 3s 332us/step - loss: 0.3403 - acc: 0.8615\n",
      "Epoch 51/100\n",
      "8000/8000 [==============================] - 4s 469us/step - loss: 0.3398 - acc: 0.8596\n",
      "Epoch 52/100\n",
      "8000/8000 [==============================] - 3s 406us/step - loss: 0.3409 - acc: 0.8594\n",
      "Epoch 53/100\n",
      "8000/8000 [==============================] - 3s 423us/step - loss: 0.3404 - acc: 0.8599\n",
      "Epoch 54/100\n",
      "8000/8000 [==============================] - 4s 447us/step - loss: 0.3400 - acc: 0.8576\n",
      "Epoch 55/100\n",
      "8000/8000 [==============================] - 3s 352us/step - loss: 0.3398 - acc: 0.8584\n",
      "Epoch 56/100\n",
      "8000/8000 [==============================] - 3s 334us/step - loss: 0.3396 - acc: 0.8612\n",
      "Epoch 57/100\n",
      "8000/8000 [==============================] - 3s 396us/step - loss: 0.3394 - acc: 0.8595\n",
      "Epoch 58/100\n",
      "8000/8000 [==============================] - 3s 316us/step - loss: 0.3392 - acc: 0.8600\n",
      "Epoch 59/100\n",
      "8000/8000 [==============================] - 3s 318us/step - loss: 0.3399 - acc: 0.8602\n",
      "Epoch 60/100\n",
      "8000/8000 [==============================] - 3s 388us/step - loss: 0.3389 - acc: 0.8607\n",
      "Epoch 61/100\n",
      "8000/8000 [==============================] - 3s 410us/step - loss: 0.3395 - acc: 0.8584\n",
      "Epoch 62/100\n",
      "8000/8000 [==============================] - 3s 352us/step - loss: 0.3392 - acc: 0.8609\n",
      "Epoch 63/100\n",
      "8000/8000 [==============================] - 5s 584us/step - loss: 0.3394 - acc: 0.8595 1s - loss: 0.3439 - acc: 0.8 - E\n",
      "Epoch 64/100\n",
      "8000/8000 [==============================] - 4s 493us/step - loss: 0.3398 - acc: 0.8597\n",
      "Epoch 65/100\n",
      "8000/8000 [==============================] - 4s 457us/step - loss: 0.3393 - acc: 0.8614\n",
      "Epoch 66/100\n",
      "8000/8000 [==============================] - 3s 392us/step - loss: 0.3392 - acc: 0.8614\n",
      "Epoch 67/100\n",
      "8000/8000 [==============================] - 5s 641us/step - loss: 0.3398 - acc: 0.8609\n",
      "Epoch 68/100\n",
      "8000/8000 [==============================] - 4s 512us/step - loss: 0.3397 - acc: 0.8606\n",
      "Epoch 69/100\n",
      "8000/8000 [==============================] - 3s 401us/step - loss: 0.3400 - acc: 0.8616\n",
      "Epoch 70/100\n",
      "8000/8000 [==============================] - 3s 429us/step - loss: 0.3394 - acc: 0.8612\n",
      "Epoch 71/100\n",
      "8000/8000 [==============================] - 3s 368us/step - loss: 0.3390 - acc: 0.8589\n",
      "Epoch 72/100\n",
      "8000/8000 [==============================] - 3s 357us/step - loss: 0.3387 - acc: 0.8610\n",
      "Epoch 73/100\n",
      "8000/8000 [==============================] - 3s 355us/step - loss: 0.3389 - acc: 0.8604\n",
      "Epoch 74/100\n",
      "8000/8000 [==============================] - 3s 368us/step - loss: 0.3392 - acc: 0.8594\n",
      "Epoch 75/100\n",
      "8000/8000 [==============================] - 3s 385us/step - loss: 0.3390 - acc: 0.8614\n",
      "Epoch 76/100\n",
      "8000/8000 [==============================] - 3s 394us/step - loss: 0.3390 - acc: 0.8596\n",
      "Epoch 77/100\n",
      "8000/8000 [==============================] - 3s 368us/step - loss: 0.3392 - acc: 0.8604\n",
      "Epoch 78/100\n",
      "8000/8000 [==============================] - 3s 318us/step - loss: 0.3393 - acc: 0.8604\n",
      "Epoch 79/100\n",
      "8000/8000 [==============================] - 3s 357us/step - loss: 0.3389 - acc: 0.8604\n",
      "Epoch 80/100\n"
     ]
    },
    {
     "name": "stdout",
     "output_type": "stream",
     "text": [
      "8000/8000 [==============================] - 3s 411us/step - loss: 0.3382 - acc: 0.8570\n",
      "Epoch 81/100\n",
      "8000/8000 [==============================] - 3s 348us/step - loss: 0.3393 - acc: 0.8615\n",
      "Epoch 82/100\n",
      "8000/8000 [==============================] - 2s 307us/step - loss: 0.3388 - acc: 0.8610\n",
      "Epoch 83/100\n",
      "8000/8000 [==============================] - 2s 309us/step - loss: 0.3387 - acc: 0.8597\n",
      "Epoch 84/100\n",
      "8000/8000 [==============================] - 3s 325us/step - loss: 0.3380 - acc: 0.8601\n",
      "Epoch 85/100\n",
      "8000/8000 [==============================] - 3s 326us/step - loss: 0.3383 - acc: 0.8585\n",
      "Epoch 86/100\n",
      "8000/8000 [==============================] - 3s 432us/step - loss: 0.3376 - acc: 0.8609\n",
      "Epoch 87/100\n",
      "8000/8000 [==============================] - 3s 357us/step - loss: 0.3383 - acc: 0.8609\n",
      "Epoch 88/100\n",
      "8000/8000 [==============================] - 3s 338us/step - loss: 0.3376 - acc: 0.8614\n",
      "Epoch 89/100\n",
      "8000/8000 [==============================] - 2s 308us/step - loss: 0.3380 - acc: 0.8610\n",
      "Epoch 90/100\n",
      "8000/8000 [==============================] - 3s 378us/step - loss: 0.3387 - acc: 0.8599\n",
      "Epoch 91/100\n",
      "8000/8000 [==============================] - 3s 338us/step - loss: 0.3390 - acc: 0.8604\n",
      "Epoch 92/100\n",
      "8000/8000 [==============================] - 3s 436us/step - loss: 0.3374 - acc: 0.8624\n",
      "Epoch 93/100\n",
      "8000/8000 [==============================] - 3s 358us/step - loss: 0.3388 - acc: 0.8586\n",
      "Epoch 94/100\n",
      "8000/8000 [==============================] - 3s 340us/step - loss: 0.3385 - acc: 0.8592\n",
      "Epoch 95/100\n",
      "8000/8000 [==============================] - 2s 311us/step - loss: 0.3384 - acc: 0.8611\n",
      "Epoch 96/100\n",
      "8000/8000 [==============================] - 5s 630us/step - loss: 0.3385 - acc: 0.8586\n",
      "Epoch 97/100\n",
      "8000/8000 [==============================] - 4s 505us/step - loss: 0.3379 - acc: 0.8594\n",
      "Epoch 98/100\n",
      "8000/8000 [==============================] - 3s 426us/step - loss: 0.3376 - acc: 0.8607\n",
      "Epoch 99/100\n",
      "8000/8000 [==============================] - 3s 322us/step - loss: 0.3374 - acc: 0.8612\n",
      "Epoch 100/100\n",
      "8000/8000 [==============================] - 3s 333us/step - loss: 0.3385 - acc: 0.8612\n"
     ]
    },
    {
     "data": {
      "text/plain": [
       "<keras.callbacks.History at 0x17cf28ed6d8>"
      ]
     },
     "execution_count": 15,
     "metadata": {},
     "output_type": "execute_result"
    }
   ],
   "source": [
    "classifier.fit(X_train, y_train, batch_size=10, epochs=100)"
   ]
  },
  {
   "cell_type": "code",
   "execution_count": 16,
   "metadata": {},
   "outputs": [],
   "source": [
    "predict = classifier.predict(X_test)\n",
    "predict = (predict > 0.5)"
   ]
  },
  {
   "cell_type": "code",
   "execution_count": 17,
   "metadata": {},
   "outputs": [
    {
     "name": "stdout",
     "output_type": "stream",
     "text": [
      "             precision    recall  f1-score   support\n",
      "\n",
      "      False       0.94      0.89      0.91      1689\n",
      "       True       0.54      0.70      0.61       311\n",
      "\n",
      "avg / total       0.88      0.86      0.87      2000\n",
      "\n",
      "[[1502  187]\n",
      " [  93  218]]\n"
     ]
    }
   ],
   "source": [
    "from sklearn.metrics import classification_report, confusion_matrix\n",
    "print(classification_report(predict, y_test ))\n",
    "print(confusion_matrix(predict, y_test))"
   ]
  },
  {
   "cell_type": "code",
   "execution_count": 18,
   "metadata": {},
   "outputs": [],
   "source": [
    "from keras.wrappers.scikit_learn import KerasClassifier\n",
    "from sklearn.model_selection import cross_val_score"
   ]
  },
 "metadata": {
  "kernelspec": {
   "display_name": "Python 3",
   "language": "python",
   "name": "python3"
  },
  "language_info": {
   "codemirror_mode": {
    "name": "ipython",
    "version": 3
   },
   "file_extension": ".py",
   "mimetype": "text/x-python",
   "name": "python",
   "nbconvert_exporter": "python",
   "pygments_lexer": "ipython3",
   "version": "3.6.3"
  }
 },
 "nbformat": 4,
 "nbformat_minor": 2
}
